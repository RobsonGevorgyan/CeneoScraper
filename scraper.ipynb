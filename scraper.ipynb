{
 "cells": [
  {
   "cell_type": "markdown",
   "metadata": {},
   "source": [
    "# Ceneo scraper"
   ]
  },
  {
   "cell_type": "markdown",
   "metadata": {},
   "source": [
    "## Struktura opinii w Ceneo\n",
    "|Składowa|selektor|zmianna|\n",
    "|--------|--------|-------|\n",
    "|identyfikator opinii|[\"data-entry-id\"]|opinion_id|\n",
    "|autora|span.user-post__author-name|author|\n",
    "|rekomendację|span.user-post__author-recomendation > em|recommend|\n",
    "|liczbę gwiazdek|span.user-post__score-count|stars|\n",
    "|data wystawienia opinii|span.user-post__published > time:nth-child(1)[\"datetime\"]|opinion_date|\n",
    "|data zakupu produktu|span.user-post__published > time:nth-child(2)[\"datetime\"]|purchased_date|\n",
    "|ile osób uznało opinię za przydatną|button.vote-yes[\"data-total-vote\"] |up_vote|\n",
    "|ile osób uznało opinię za nieprzydatną|button.vote-no[\"data-total-vote\"]|down_vote|\n",
    "|treść opinii|div.user-post__text|content|\n",
    "|listę wad|review-feature__title--negatives ~ div.review-feature__item|cons|\n",
    "|listę zalet|review-feature__title--positives ~ div.review-feature__item|pros|\n"
   ]
  },
  {
   "cell_type": "code",
   "execution_count": null,
   "metadata": {},
   "outputs": [],
   "source": [
    "import requests\n",
    "from bs4 import BeautifulSoup"
   ]
  },
  {
   "cell_type": "code",
   "execution_count": null,
   "metadata": {},
   "outputs": [],
   "source": [
    "product_id = 106579657\n",
    "url = f\"https://www.ceneo.pl/{product_id}#tab=reviews\""
   ]
  },
  {
   "cell_type": "code",
   "execution_count": null,
   "metadata": {},
   "outputs": [],
   "source": [
    "response = requests.get(url)\n",
    "response.status_code\n",
    "response.text"
   ]
  },
  {
   "cell_type": "code",
   "execution_count": null,
   "metadata": {},
   "outputs": [],
   "source": [
    "page = BeautifulSoup(response.text, \"html.parser\")\n",
    "opinions = page.select(\"div.js_product-review\")\n",
    "opinion = page.select_one(\"div.js_product-review\")\n",
    "print(opinions)"
   ]
  },
  {
   "cell_type": "code",
   "execution_count": null,
   "metadata": {},
   "outputs": [],
   "source": [
    "def extract(ancestor, selector=None, attribute=None, return_list=False):\n",
    "    if return_list:\n",
    "        if attribute:\n",
    "            return [tag[attribute].strip() for tag in ancestor.select(selector)]\n",
    "        return [tag.text.strip() for tag in ancestor.select(selector)]\n",
    "    if selector:\n",
    "        if attribute:\n",
    "            return ancestor.select_one(selector)[attribute].strip()\n",
    "        return ancestor.select_one(selector).text.strip()\n",
    "    if attribute:\n",
    "        return ancestor[attribute].strip()\n",
    "    return ancestor.text.strip()\n"
   ]
  },
  {
   "cell_type": "code",
   "execution_count": null,
   "metadata": {},
   "outputs": [],
   "source": [
    "\n",
    "single_opinion = {\n",
    "\n",
    "\"author\" : extract(opinion, \"span.user-post__author-name\"),\n",
    "\"recommend\" : extract(opinion, \"span.user-post__author-recomendation > em\"),\n",
    "\"stars\" : extract(opinion, \"span.user-post__score-count\"),\n",
    "\"opinion_date\" : extract(opinion,(\"span.user-post__published > time:nth-child(1)\"),\"datetime\"),\n",
    "\"purchased_date\" : extract(opinion,(\"span.user-post__published > time:nth-child(2)\"),\"datetime\"),\n",
    "\"up_vote\" : extract(opinion, (\"button.vote-yes\"), \"data-total-vote\"),\n",
    "\"down_vote\" : extract(opinion, (\"button.vote-no\"), \"data-total-vote\"),\n",
    "\"content\" : extract(opinion, (\"div.user-post__text\")),\n",
    "\"cons\" : extract(opinion, (\"div.review-feature__title--negatives ~ div.review-feature__item\"), None, True),\n",
    "\"pros\" : extract(opinion, (\"div.review-feature__title--positives ~ div.review-feature__item\"), None, True),\n",
    "\"opinion_id\" : extract(opinion, None,\"data-entry-id\")\n",
    "\n",
    "}\n",
    "\n",
    "print(single_opinion)"
   ]
  }
 ],
 "metadata": {
  "kernelspec": {
   "display_name": ".venv",
   "language": "python",
   "name": "python3"
  },
  "language_info": {
   "codemirror_mode": {
    "name": "ipython",
    "version": 3
   },
   "file_extension": ".py",
   "mimetype": "text/x-python",
   "name": "python",
   "nbconvert_exporter": "python",
   "pygments_lexer": "ipython3",
   "version": "3.9.6"
  }
 },
 "nbformat": 4,
 "nbformat_minor": 2
}
